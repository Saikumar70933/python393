{
 "cells": [
  {
   "cell_type": "code",
   "execution_count": 1,
   "metadata": {},
   "outputs": [
    {
     "name": "stdout",
     "output_type": "stream",
     "text": [
      "enter a name sai\n",
      "not a pal\n"
     ]
    }
   ],
   "source": [
    "l=str(input(\"enter a name \"))\n",
    "r=l[::-1]\n",
    "if r==l:\n",
    "    print(\"pal\")\n",
    "else:\n",
    "    print(\"not a pal\")"
   ]
  },
  {
   "cell_type": "code",
   "execution_count": 2,
   "metadata": {},
   "outputs": [
    {
     "name": "stdout",
     "output_type": "stream",
     "text": [
      "enter a value123\n"
     ]
    },
    {
     "data": {
      "text/plain": [
       "int"
      ]
     },
     "execution_count": 2,
     "metadata": {},
     "output_type": "execute_result"
    }
   ],
   "source": [
    "a=input(\"enter a value\")\n",
    "r=a[::-1]\n",
    "int(r)\n",
    "r=int(r)\n",
    "type(r)"
   ]
  },
  {
   "cell_type": "markdown",
   "metadata": {},
   "source": [
    "# factorial"
   ]
  },
  {
   "cell_type": "code",
   "execution_count": 3,
   "metadata": {},
   "outputs": [
    {
     "name": "stdout",
     "output_type": "stream",
     "text": [
      "enter avalue6\n",
      "1\n",
      "2\n",
      "3\n"
     ]
    }
   ],
   "source": [
    "a=int(input(\"enter avalue\"))\n",
    "b=0\n",
    "for i in range(1,a):\n",
    "    t=a%i\n",
    "    if t==0:\n",
    "        x=b+i\n",
    "        print(x)\n"
   ]
  },
  {
   "cell_type": "markdown",
   "metadata": {},
   "source": [
    "# perfect number #"
   ]
  },
  {
   "cell_type": "code",
   "execution_count": 4,
   "metadata": {},
   "outputs": [
    {
     "name": "stdout",
     "output_type": "stream",
     "text": [
      "enter avalue6\n",
      "6 is a perfect number\n"
     ]
    }
   ],
   "source": [
    "a=int(input(\"enter avalue\"))\n",
    "b=0\n",
    "for i in range(1,a):\n",
    "    t=a%i\n",
    "    if t==0:\n",
    "        b=b+i\n",
    "if b==a:\n",
    "    print(a,\"is a perfect number\")\n",
    "else :\n",
    "    print(a,\"is not a perfect number\")\n",
    "        \n"
   ]
  },
  {
   "cell_type": "markdown",
   "metadata": {},
   "source": [
    "## special number #"
   ]
  },
  {
   "cell_type": "code",
   "execution_count": 5,
   "metadata": {},
   "outputs": [
    {
     "name": "stdout",
     "output_type": "stream",
     "text": [
      "enter a value5\n",
      "5 is a special number\n"
     ]
    }
   ],
   "source": [
    "a=int(input(\"enter a value\"))\n",
    "t=a%10\n",
    "x=a//10\n",
    "p=x+t\n",
    "q=t*x\n",
    "r=p+q\n",
    "if r==a:\n",
    "    print(a,\"is a special number\")\n",
    "else :\n",
    "    print(a,\"is not a special number\")"
   ]
  },
  {
   "cell_type": "code",
   "execution_count": 6,
   "metadata": {},
   "outputs": [
    {
     "name": "stdout",
     "output_type": "stream",
     "text": [
      "enter lower boundary1\n",
      "enter upper boundary12\n",
      "1 12\n",
      "1 12\n",
      "1 12\n",
      "1 12\n",
      "1 12\n",
      "1 12\n",
      "1 12\n",
      "1 12\n",
      "1 12\n",
      "1 12\n",
      "1 12\n",
      "1 12\n"
     ]
    }
   ],
   "source": [
    "a=int(input(\"enter lower boundary\"))\n",
    "b=int(input(\"enter upper boundary\"))\n",
    "c=0\n",
    "for i in range(1,a+1):\n",
    "    t=a%i\n",
    "    if t==0:\n",
    "        c=c+1\n",
    "if c==2:\n",
    "    print(i)\n",
    "for j in range (a,b+1):\n",
    "    print(a,b)"
   ]
  },
  {
   "cell_type": "code",
   "execution_count": 7,
   "metadata": {},
   "outputs": [
    {
     "name": "stdout",
     "output_type": "stream",
     "text": [
      "enter avalue1\n",
      "1 is not a perfect number\n"
     ]
    }
   ],
   "source": [
    "a=int(input(\"enter avalue\"))\n",
    "b=0\n",
    "for i in range(1,a):\n",
    "    t=a%i\n",
    "    if t==0:\n",
    "        b=b+i\n",
    "if b==a:\n",
    "    print(a,\"is a perfect number\")\n",
    "else :\n",
    "    print(a,\"is not a perfect number\")\n",
    "        \n"
   ]
  },
  {
   "cell_type": "markdown",
   "metadata": {},
   "source": [
    "a=(\"enter a name\")\n",
    "b=(\"enter a type\")\n",
    "c=a+b\n",
    "print(c)"
   ]
  },
  {
   "cell_type": "code",
   "execution_count": 8,
   "metadata": {},
   "outputs": [
    {
     "name": "stdout",
     "output_type": "stream",
     "text": [
      "enter a namesai\n",
      "enter typechar\n",
      "saichar\n"
     ]
    }
   ],
   "source": [
    "a=input(\"enter a name\")\n",
    "b=input(\"enter type\")\n",
    "c=a+ b\n",
    "print(c)"
   ]
  },
  {
   "cell_type": "code",
   "execution_count": null,
   "metadata": {},
   "outputs": [],
   "source": []
  }
 ],
 "metadata": {
  "kernelspec": {
   "display_name": "Python 3",
   "language": "python",
   "name": "python3"
  },
  "language_info": {
   "codemirror_mode": {
    "name": "ipython",
    "version": 3
   },
   "file_extension": ".py",
   "mimetype": "text/x-python",
   "name": "python",
   "nbconvert_exporter": "python",
   "pygments_lexer": "ipython3",
   "version": "3.7.3"
  }
 },
 "nbformat": 4,
 "nbformat_minor": 2
}
