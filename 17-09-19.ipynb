{
 "cells": [
  {
   "cell_type": "code",
   "execution_count": 5,
   "metadata": {},
   "outputs": [
    {
     "name": "stdout",
     "output_type": "stream",
     "text": [
      "99\n"
     ]
    }
   ],
   "source": [
    "s=set([99,25,2,64,84,24])\n",
    "x=s\n",
    "x\n",
    "t=list(x)\n",
    "t.sort()\n",
    "print(t[-1])\n"
   ]
  },
  {
   "cell_type": "markdown",
   "metadata": {},
   "source": [
    "# lift"
   ]
  },
  {
   "cell_type": "code",
   "execution_count": 8,
   "metadata": {},
   "outputs": [
    {
     "name": "stdout",
     "output_type": "stream",
     "text": [
      "enter a floor that you are4\n",
      "lift B(top floor)\n",
      "enter a floor that you are3\n",
      "lift A(ground floor)\n",
      "enter a floor that you are2\n",
      "lift A(ground floor)\n",
      "enter a floor that you are5\n",
      "lift B(top floor)\n",
      "enter a floor that you are4\n",
      "lift B(top floor)\n",
      "enter a floor that you are4\n",
      "lift B(top floor)\n",
      "enter a floor that you are3\n",
      "lift A(ground floor)\n"
     ]
    }
   ],
   "source": [
    "p=0\n",
    "q=7\n",
    "b=(\"lift A(ground floor)\")\n",
    "c=(\"lift B(top floor)\")\n",
    "t=1\n",
    "while t<8:\n",
    "    a=int(input(\"enter a floor that you are\"))\n",
    "    if abs(a-p)>abs(a-q):\n",
    "        print(c)\n",
    "        a=q\n",
    "    elif abs(a-p)==abs(a-q):\n",
    "        print(b)\n",
    "        a=p\n",
    "    else :\n",
    "        print(b)\n",
    "        a=p\n",
    "    t+=1       "
   ]
  },
  {
   "cell_type": "markdown",
   "metadata": {},
   "source": [
    " # lift 2"
   ]
  },
  {
   "cell_type": "code",
   "execution_count": 9,
   "metadata": {},
   "outputs": [
    {
     "name": "stdout",
     "output_type": "stream",
     "text": [
      "4\n",
      "3\n",
      "A\n",
      "4\n",
      "A\n",
      "6\n",
      "B\n",
      "5\n",
      "A\n"
     ]
    }
   ],
   "source": [
    "t=int(input(\"\"))\n",
    "a=0\n",
    "b=7\n",
    "for i in range(t):\n",
    "    n=int(input())\n",
    "    d1=abs(a-n)\n",
    "    d2=abs(b-n)\n",
    "    if d1<=d2:\n",
    "        print(\"A\")\n",
    "        a=n\n",
    "    else :\n",
    "        print(\"B\")\n",
    "        b=n\n",
    "    "
   ]
  },
  {
   "cell_type": "markdown",
   "metadata": {},
   "source": [
    "# strings model"
   ]
  },
  {
   "cell_type": "code",
   "execution_count": 3,
   "metadata": {},
   "outputs": [
    {
     "name": "stdout",
     "output_type": "stream",
     "text": [
      "enter a string qwer rtew\n",
      "no\n"
     ]
    }
   ],
   "source": [
    "a=input(\"enter a string \")\n",
    "b=a.split()\n",
    "a1=b[0]\n",
    "a2=b[1]\n",
    "x=sorted(a1)\n",
    "y=sorted(a2)\n",
    "if x==y:     \n",
    "    print(\"yes\")\n",
    "else :\n",
    "    print(\"no\")"
   ]
  },
  {
   "cell_type": "code",
   "execution_count": null,
   "metadata": {},
   "outputs": [],
   "source": []
  }
 ],
 "metadata": {
  "kernelspec": {
   "display_name": "Python 3",
   "language": "python",
   "name": "python3"
  },
  "language_info": {
   "codemirror_mode": {
    "name": "ipython",
    "version": 3
   },
   "file_extension": ".py",
   "mimetype": "text/x-python",
   "name": "python",
   "nbconvert_exporter": "python",
   "pygments_lexer": "ipython3",
   "version": "3.7.3"
  }
 },
 "nbformat": 4,
 "nbformat_minor": 2
}
