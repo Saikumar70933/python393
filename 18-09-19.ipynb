{
 "cells": [
  {
   "cell_type": "markdown",
   "metadata": {},
   "source": [
    "# 7 - Segment display for 0-9"
   ]
  },
  {
   "cell_type": "code",
   "execution_count": 1,
   "metadata": {
    "scrolled": false
   },
   "outputs": [
    {
     "name": "stdout",
     "output_type": "stream",
     "text": [
      "enter a number9\n",
      "6\n",
      "enter a number3\n",
      "5\n",
      "enter a number1\n",
      "2\n",
      "enter a number2\n",
      "5\n",
      "enter a number3\n",
      "5\n",
      "enter a number4\n",
      "4\n",
      "enter a number5\n",
      "5\n",
      "enter a number6\n",
      "6\n",
      "enter a number7\n",
      "3\n",
      "enter a number8\n",
      "7\n"
     ]
    }
   ],
   "source": [
    "d={0:6,1:2,2:5,3:5,4:4,5:5,6:6,7:3,8:7,9:6}\n",
    "for i in range(0,10):\n",
    "    i=int(input(\"enter a number\"))\n",
    "    print(d[i])"
   ]
  },
  {
   "cell_type": "markdown",
   "metadata": {},
   "source": [
    "# 7 segment for n numbers"
   ]
  },
  {
   "cell_type": "code",
   "execution_count": 14,
   "metadata": {},
   "outputs": [
    {
     "name": "stdout",
     "output_type": "stream",
     "text": [
      "121\n",
      "9\n"
     ]
    }
   ],
   "source": [
    "d={0:6,1:2,2:5,3:5,4:4,5:5,6:6,7:3,8:7,9:6}\n",
    "n=input(\"enter a number\")\n",
    "c=0\n",
    "for i in n:\n",
    "    c=c+d[int(i)]\n",
    "print(c)    "
   ]
  },
  {
   "cell_type": "code",
   "execution_count": 27,
   "metadata": {},
   "outputs": [
    {
     "name": "stdout",
     "output_type": "stream",
     "text": [
      "enter a stringllur\n",
      "coordinates (-1, 1)\n"
     ]
    }
   ],
   "source": [
    "d={\"l\":-1,\"r\":1,\"u\":1,\"d\":-1}\n",
    "a=input(\"enter a string\")\n",
    "b=0\n",
    "f=0\n",
    "for i in a:\n",
    "    if i=='l' or i=='r':\n",
    "        c=d[i]\n",
    "        b=b+c\n",
    "    else:\n",
    "        i=='u' or i=='d'\n",
    "        c=d[i]\n",
    "        f=f+c\n",
    "print(\"coordinates\",(b,f))        \n",
    "    \n"
   ]
  },
  {
   "cell_type": "markdown",
   "metadata": {},
   "source": [
    "# positions "
   ]
  },
  {
   "cell_type": "code",
   "execution_count": 28,
   "metadata": {},
   "outputs": [
    {
     "name": "stdout",
     "output_type": "stream",
     "text": [
      "enter the direction:lrrduldr\n",
      "[1, -1]\n"
     ]
    }
   ],
   "source": [
    "s=str(input(\"enter the direction:\"))\n",
    "p=[0,0]\n",
    "for i in s:\n",
    "    if i==\"l\":\n",
    "        p[0]-=1\n",
    "    elif i==\"r\":\n",
    "        p[0]+=1\n",
    "    elif i==\"u\":\n",
    "        p[1]+=1\n",
    "    elif i==\"d\":\n",
    "        p[1]-=1\n",
    "print(p)        "
   ]
  },
  {
   "cell_type": "code",
   "execution_count": 29,
   "metadata": {},
   "outputs": [],
   "source": [
    "filepath=\"./files/sample.txt\"\n",
    "with open(filepath,'w') as f :\n",
    "    f.write(\"this is my first line\")"
   ]
  },
  {
   "cell_type": "code",
   "execution_count": null,
   "metadata": {},
   "outputs": [],
   "source": []
  }
 ],
 "metadata": {
  "kernelspec": {
   "display_name": "Python 3",
   "language": "python",
   "name": "python3"
  },
  "language_info": {
   "codemirror_mode": {
    "name": "ipython",
    "version": 3
   },
   "file_extension": ".py",
   "mimetype": "text/x-python",
   "name": "python",
   "nbconvert_exporter": "python",
   "pygments_lexer": "ipython3",
   "version": "3.7.3"
  }
 },
 "nbformat": 4,
 "nbformat_minor": 2
}
